{
 "cells": [
  {
   "cell_type": "code",
   "execution_count": null,
   "id": "3e7b91b7",
   "metadata": {},
   "outputs": [],
   "source": []
  },
  {
   "cell_type": "code",
   "execution_count": 1,
   "id": "6f818fe6",
   "metadata": {},
   "outputs": [],
   "source": [
    "import matplotlib.pyplot as plt\n",
    "import math "
   ]
  },
  {
   "cell_type": "code",
   "execution_count": 2,
   "id": "f06d53a1",
   "metadata": {},
   "outputs": [],
   "source": [
    "def cercaNodiPiuVicini(x, y):\n",
    "    pos = -1\n",
    "    dist = 1000000000\n",
    "    for i in range(len(x)):\n",
    "        for j in range(i + 1, len(x)):\n",
    "                d = (x[i] - x[j])**2 + (y[i] - y[j])**2\n",
    "                if d < dist:\n",
    "                    dist = d\n",
    "                    pos = (i, j)\n",
    "    return pos"
   ]
  },
  {
   "cell_type": "code",
   "execution_count": 59,
   "id": "be55c181",
   "metadata": {},
   "outputs": [
    {
     "name": "stdout",
     "output_type": "stream",
     "text": [
      "{(52, 98), (40, 78), (56, 68), (50, 46), (87, 77), (48, 30), (90, 97), (89, 16), (75, 57), (55, 26), (60, 77), (32, 67), (35, 11), (14, 98), (72, 63), (5, 40), (29, 65), (31, 74), (36, 70), (38, 37), (80, 9), (4, 69), (43, 57), (60, 82), (71, 58), (6, 50), (8, 87), (32, 17), (58, 100), (71, 73), (65, 26), (54, 60), (33, 92), (40, 73), (88, 92), (7, 70), (25, 42), (78, 20), (25, 48), (74, 62), (15, 52), (55, 94), (30, 77), (56, 93), (35, 64), (80, 35), (1, 10), (41, 86), (96, 34), (54, 68)}\n"
     ]
    }
   ],
   "source": [
    "num = 50\n",
    "d = set()\n",
    "\n",
    "for i in range(num):\n",
    "    d.add((random.randint(0, 100), random.randint(0, 100)))\n",
    "\n",
    "print(d)\n",
    "    \n",
    "x = []\n",
    "y = []\n",
    "for p in d:\n",
    "    x.append(p[0])\n",
    "    y.append(p[1])"
   ]
  },
  {
   "cell_type": "code",
   "execution_count": 88,
   "id": "829815c3",
   "metadata": {},
   "outputs": [
    {
     "name": "stdout",
     "output_type": "stream",
     "text": [
      "(0, 1)\n",
      "<class 'int'>\n"
     ]
    },
    {
     "data": {
      "image/png": "[encoded data removed]",
      "text/plain": [
       "<Figure size 432x288 with 1 Axes>"
      ]
     },
     "metadata": {
      "needs_background": "light"
     },
     "output_type": "display_data"
    }
   ],
   "source": [
    "m = cercaNodiPiuVicini(x, y)\n",
    "print(m)\n",
    "print(type(m[0]))\n",
    "\n",
    "# plotting the points  \n",
    "plt.scatter(x, y)\n",
    "plt.plot([x[m[0]], x[m[1]]], [y[m[0]], y[m[1]]])\n",
    "\n",
    "  \n",
    "plt.xlabel('Asse x') \n",
    "plt.ylabel('Asse y') \n",
    "plt.title('Grafo casuale')\n",
    "plt.show() "
   ]
  },
  {
   "cell_type": "code",
   "execution_count": 93,
   "id": "490fe44a",
   "metadata": {},
   "outputs": [
    {
     "name": "stdout",
     "output_type": "stream",
     "text": [
      "2\n",
      "<class 'int'>\n"
     ]
    },
    {
     "data": {
      "image/png": "[encoded data removed]",
      "text/plain": [
       "<Figure size 432x288 with 1 Axes>"
      ]
     },
     "metadata": {
      "needs_background": "light"
     },
     "output_type": "display_data"
    }
   ],
   "source": [
    "# NearestNeighbor\n",
    "def nodoPiùVicinoA(x, y, t):\n",
    "    pos = -1\n",
    "    dist = 1000000000\n",
    "    for i in range(len(x)):\n",
    "        d = (x[i] - t[0])**2 + (y[i] - t[1])**2\n",
    "        if d < dist:\n",
    "            dist = d\n",
    "            pos = i\n",
    "    return pos\n",
    "\n",
    "x = [0, 1, 2, 3]\n",
    "y = x\n",
    "\n",
    "t = (1.501, 1.501)\n",
    "m = nodoPiùVicinoA(x, y, t)\n",
    "print(m)\n",
    "print(type(m))\n",
    "\n",
    "# plotting the points  \n",
    "plt.scatter(x, y)\n",
    "plt.plot([x[m], t[0]], [y[m], t[1]])\n",
    "\n",
    "  \n",
    "plt.xlabel('Asse x') \n",
    "plt.ylabel('Asse y') \n",
    "plt.title('Grafo casuale')\n",
    "plt.show() "
   ]
  }
 ],
 "metadata": {
  "kernelspec": {
   "display_name": "Python 3 (ipykernel)",
   "language": "python",
   "name": "python3"
  },
  "language_info": {
   "codemirror_mode": {
    "name": "ipython",
    "version": 3
   },
   "file_extension": ".py",
   "mimetype": "text/x-python",
   "name": "python",
   "nbconvert_exporter": "python",
   "pygments_lexer": "ipython3",
   "version": "3.10.12"
  }
 },
 "nbformat": 4,
 "nbformat_minor": 5
}
