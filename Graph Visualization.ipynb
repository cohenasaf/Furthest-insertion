{
 "cells": [
  {
   "cell_type": "code",
   "execution_count": 4,
   "id": "6f818fe6",
   "metadata": {},
   "outputs": [],
   "source": [
    "import matplotlib.pyplot as plt\n",
    "import math \n",
    "import random"
   ]
  },
  {
   "cell_type": "code",
   "execution_count": 5,
   "id": "f06d53a1",
   "metadata": {},
   "outputs": [],
   "source": [
    "def cercaNodiPiuVicini(x, y):\n",
    "    pos = -1\n",
    "    dist = 1000000000\n",
    "    for i in range(len(x)):\n",
    "        for j in range(i + 1, len(x)):\n",
    "                d = (x[i] - x[j])**2 + (y[i] - y[j])**2\n",
    "                if d < dist:\n",
    "                    dist = d\n",
    "                    pos = (i, j)\n",
    "    return pos"
   ]
  },
  {
   "cell_type": "code",
   "execution_count": 6,
   "id": "be55c181",
   "metadata": {},
   "outputs": [
    {
     "name": "stdout",
     "output_type": "stream",
     "text": [
      "{(38, 20), (52, 49), (81, 24), (46, 91), (70, 58), (13, 42), (74, 55), (79, 45), (42, 66), (89, 83), (8, 9), (16, 47), (76, 0), (7, 41), (32, 67), (19, 79), (37, 48), (43, 94), (57, 26), (96, 100), (50, 63), (31, 83), (92, 81), (66, 68), (3, 30), (26, 50), (73, 55), (92, 38), (57, 16), (63, 66), (83, 47), (71, 79), (0, 98), (36, 63), (7, 85), (57, 95), (32, 41), (9, 49), (22, 18), (53, 91), (84, 33), (93, 66), (58, 78), (85, 13), (47, 90), (92, 92), (7, 2), (89, 47), (1, 80), (96, 92)}\n"
     ]
    }
   ],
   "source": [
    "num = 50\n",
    "d = set()\n",
    "\n",
    "for i in range(num):\n",
    "    d.add((random.randint(0, 100), random.randint(0, 100)))\n",
    "\n",
    "print(d)\n",
    "    \n",
    "x = []\n",
    "y = []\n",
    "for p in d:\n",
    "    x.append(p[0])\n",
    "    y.append(p[1])"
   ]
  },
  {
   "cell_type": "code",
   "execution_count": 9,
   "id": "829815c3",
   "metadata": {},
   "outputs": [
    {
     "name": "stdout",
     "output_type": "stream",
     "text": [
      "(6, 26)\n",
      "<class 'int'>\n"
     ]
    },
    {
     "data": {
      "image/png": "[encoded data removed]",
      "text/plain": [
       "<Figure size 432x288 with 1 Axes>"
      ]
     },
     "metadata": {
      "needs_background": "light"
     },
     "output_type": "display_data"
    }
   ],
   "source": [
    "m = cercaNodiPiuVicini(x, y)\n",
    "print(m)\n",
    "print(type(m[0]))\n",
    "\n",
    "# plotting the points  \n",
    "plt.scatter(x, y)\n",
    "plt.plot([x[m[0]], x[m[1]]], [y[m[0]], y[m[1]]])\n",
    "\n",
    "  \n",
    "plt.xlabel('Asse x') \n",
    "plt.ylabel('Asse y') \n",
    "plt.title('Grafo casuale')\n",
    "plt.show() "
   ]
  },
  {
   "cell_type": "code",
   "execution_count": 11,
   "id": "490fe44a",
   "metadata": {},
   "outputs": [
    {
     "name": "stdout",
     "output_type": "stream",
     "text": [
      "2\n",
      "<class 'int'>\n"
     ]
    },
    {
     "data": {
      "image/png": "[encoded data removed]",
      "text/plain": [
       "<Figure size 432x288 with 1 Axes>"
      ]
     },
     "metadata": {
      "needs_background": "light"
     },
     "output_type": "display_data"
    }
   ],
   "source": [
    "# NearestNeighbor\n",
    "def nodoPiùVicinoA(x, y, t):\n",
    "    pos = -1\n",
    "    dist = 1000000000\n",
    "    for i in range(len(x)):\n",
    "        d = (x[i] - t[0])**2 + (y[i] - t[1])**2\n",
    "        if d < dist:\n",
    "            dist = d\n",
    "            pos = i\n",
    "    return pos\n",
    "\n",
    "t = (1.501, 1.501)\n",
    "m = nodoPiùVicinoA(x, y, t)\n",
    "print(m)\n",
    "print(type(m))\n",
    "\n",
    "# plotting the points  \n",
    "plt.scatter(x, y)\n",
    "plt.plot([x[m], t[0]], [y[m], t[1]])\n",
    "\n",
    "  \n",
    "plt.xlabel('Asse x') \n",
    "plt.ylabel('Asse y') \n",
    "plt.title('Grafo casuale')\n",
    "plt.show() "
   ]
  }
 ],
 "metadata": {
  "kernelspec": {
   "display_name": "Python 3 (ipykernel)",
   "language": "python",
   "name": "python3"
  },
  "language_info": {
   "codemirror_mode": {
    "name": "ipython",
    "version": 3
   },
   "file_extension": ".py",
   "mimetype": "text/x-python",
   "name": "python",
   "nbconvert_exporter": "python",
   "pygments_lexer": "ipython3",
   "version": "3.10.12"
  }
 },
 "nbformat": 4,
 "nbformat_minor": 5
}
