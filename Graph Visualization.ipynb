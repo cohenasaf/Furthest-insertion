{
 "cells": [
  {
   "cell_type": "code",
   "execution_count": 1,
   "id": "6f818fe6",
   "metadata": {},
   "outputs": [],
   "source": [
    "import matplotlib.pyplot as plt\n",
    "import math "
   ]
  },
  {
   "cell_type": "code",
   "execution_count": 2,
   "id": "f06d53a1",
   "metadata": {},
   "outputs": [],
   "source": [
    "def cercaNodiPiuVicini(x, y):\n",
    "    pos = -1\n",
    "    dist = 1000000000\n",
    "    for i in range(len(x)):\n",
    "        for j in range(i + 1, len(x)):\n",
    "                d = (x[i] - x[j])**2 + (y[i] - y[j])**2\n",
    "                if d < dist:\n",
    "                    dist = d\n",
    "                    pos = (i, j)\n",
    "    return pos"
   ]
  },
  {
   "cell_type": "code",
   "execution_count": 54,
   "id": "be55c181",
   "metadata": {},
   "outputs": [
    {
     "name": "stdout",
     "output_type": "stream",
     "text": [
      "{(6, 18), (97, 72), (38, 87), (12, 68), (41, 49), (21, 16), (67, 13), (98, 46), (56, 10), (39, 24), (50, 6), (44, 45), (7, 35), (15, 30), (2, 48), (2, 57), (97, 38), (28, 85), (28, 30), (13, 8), (48, 72), (61, 91), (21, 55), (75, 35), (52, 33), (24, 81), (78, 6), (55, 4), (87, 82), (81, 41), (100, 76), (3, 70), (88, 65), (25, 61), (37, 81), (82, 58), (11, 71), (48, 56), (17, 87), (38, 0), (9, 83), (20, 49), (43, 78), (60, 94), (6, 4), (26, 71), (35, 28), (6, 77), (53, 9), (4, 59), (68, 43), (31, 24), (77, 85), (40, 100), (2, 61), (56, 96), (84, 45), (32, 7), (28, 89), (85, 86), (95, 63), (27, 93), (21, 4), (90, 21), (73, 69), (36, 50), (67, 65), (72, 79), (28, 46), (45, 7), (34, 7), (7, 87), (30, 52), (39, 85), (31, 17), (63, 31), (17, 9), (76, 3), (49, 50), (5, 80), (67, 31), (67, 95), (89, 40), (90, 5), (7, 53), (59, 36), (13, 14), (18, 53), (30, 27), (25, 77), (52, 39), (20, 1), (63, 79), (38, 25), (3, 58), (93, 3), (20, 74), (94, 2), (28, 66), (36, 6), (40, 95), (85, 8), (61, 17), (75, 25), (15, 68), (24, 16), (99, 19), (42, 86), (52, 32), (39, 62), (73, 64), (6, 65), (79, 25), (71, 76), (20, 3), (88, 92), (99, 37), (8, 93), (74, 47), (21, 11), (57, 95), (5, 66), (39, 98), (29, 97), (38, 45), (80, 78), (18, 39), (77, 100), (35, 64), (52, 80), (47, 29), (55, 97), (44, 76), (2, 6), (30, 86), (34, 50), (44, 30), (96, 34), (62, 66), (81, 15), (2, 33), (46, 33), (82, 32), (45, 77), (56, 77), (58, 62), (35, 39), (20, 87), (43, 52), (86, 87), (89, 74), (22, 75), (12, 83), (18, 96), (14, 25), (73, 41), (69, 89), (79, 66), (59, 97), (65, 76), (81, 72), (76, 85), (71, 16), (54, 0), (34, 61), (68, 26), (2, 90), (3, 0), (14, 0), (40, 92), (53, 22), (33, 53), (78, 85), (72, 99), (61, 78), (30, 17), (44, 80), (85, 81), (37, 96), (28, 38), (94, 93), (46, 19), (74, 35), (100, 54), (75, 34), (68, 92), (89, 5), (98, 38), (35, 34), (89, 69), (29, 30), (84, 30), (89, 78), (26, 40), (95, 39), (8, 1), (18, 100), (8, 65), (24, 61), (88, 64), (53, 42), (96, 77), (2, 67), (65, 80), (76, 25), (39, 6), (34, 56), (68, 21), (94, 40), (39, 70), (100, 56), (6, 67), (14, 50), (52, 34), (21, 1), (72, 12), (4, 49), (97, 75), (81, 88), (72, 85), (79, 36), (4, 67), (50, 64), (29, 96), (80, 77), (16, 41), (72, 39), (64, 90), (93, 7), (45, 22), (71, 41), (9, 11), (2, 5), (70, 94), (17, 88), (38, 1), (57, 14), (2, 78), (71, 13), (94, 33), (31, 4), (40, 71), (0, 35), (72, 69), (13, 84), (89, 0), (24, 29), (57, 96), (32, 42), (84, 80), (95, 25), (97, 22), (87, 76), (47, 3), (1, 45), (71, 34), (69, 79), (93, 9), (24, 56), (90, 56), (76, 2), (31, 34), (99, 4), (76, 66), (22, 40), (9, 22), (49, 58), (69, 36), (51, 85), (5, 97), (13, 13), (68, 80), (63, 11), (60, 97), (14, 100), (44, 34), (35, 31), (49, 30), (58, 8), (56, 8), (64, 21), (52, 1), (48, 73), (37, 13), (33, 61), (34, 26), (45, 90), (56, 35), (5, 26), (91, 96), (37, 40), (13, 15), (23, 59)}\n",
      "(16, 187)\n",
      "<class 'int'>\n"
     ]
    },
    {
     "data": {
      "image/png": "[encoded data removed]",
      "text/plain": [
       "<Figure size 432x288 with 1 Axes>"
      ]
     },
     "metadata": {
      "needs_background": "light"
     },
     "output_type": "display_data"
    }
   ],
   "source": [
    "import matplotlib.pyplot as plt\n",
    "import random\n",
    "  \n",
    "num = 301\n",
    "d = set()\n",
    "\n",
    "for i in range(num):\n",
    "    d.add((random.randint(0, 100), random.randint(0, 100)))\n",
    "\n",
    "print(d)\n",
    "    \n",
    "x = []\n",
    "y = []\n",
    "for p in d:\n",
    "    x.append(p[0])\n",
    "    y.append(p[1])\n",
    "\n",
    "m = cercaNodiPiuVicini(x, y)\n",
    "print(m)\n",
    "print(type(m[0]))\n",
    "\n",
    "# plotting the points  \n",
    "plt.scatter(x, y)\n",
    "plt.plot([x[m[0]], x[m[1]]], [y[m[0]], y[m[1]]])\n",
    "\n",
    "  \n",
    "plt.xlabel('Asse x') \n",
    "plt.ylabel('Asse y') \n",
    "plt.title('Grafo casuale')\n",
    "plt.show() "
   ]
  }
 ],
 "metadata": {
  "kernelspec": {
   "display_name": "Python 3 (ipykernel)",
   "language": "python",
   "name": "python3"
  },
  "language_info": {
   "codemirror_mode": {
    "name": "ipython",
    "version": 3
   },
   "file_extension": ".py",
   "mimetype": "text/x-python",
   "name": "python",
   "nbconvert_exporter": "python",
   "pygments_lexer": "ipython3",
   "version": "3.10.12"
  }
 },
 "nbformat": 4,
 "nbformat_minor": 5
}
